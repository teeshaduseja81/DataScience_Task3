{
  "nbformat": 4,
  "nbformat_minor": 0,
  "metadata": {
    "colab": {
      "provenance": []
    },
    "kernelspec": {
      "name": "python3",
      "display_name": "Python 3"
    },
    "language_info": {
      "name": "python"
    }
  },
  "cells": [
    {
      "cell_type": "code",
      "execution_count": 2,
      "metadata": {
        "id": "Jj5UGpmGzy0U"
      },
      "outputs": [],
      "source": [
        "%matplotlib inline\n",
        "\n",
        "from pathlib import Path\n",
        "\n",
        "import pandas as pd\n",
        "import numpy as np\n",
        "from scipy.stats import trim_mean\n",
        "from statsmodels import robust\n",
        "import seaborn as sns\n",
        "import matplotlib.pylab as plt\n",
        "from sklearn.model_selection import train_test_split\n",
        "from sklearn.preprocessing import StandardScaler"
      ]
    },
    {
      "cell_type": "code",
      "source": [
        "!pip install wquantiles"
      ],
      "metadata": {
        "colab": {
          "base_uri": "https://localhost:8080/"
        },
        "id": "uLqGlkTMz6qB",
        "outputId": "4ede2f48-a335-4a34-8880-d7a0c8d24438"
      },
      "execution_count": 3,
      "outputs": [
        {
          "output_type": "stream",
          "name": "stdout",
          "text": [
            "Collecting wquantiles\n",
            "  Downloading wquantiles-0.6-py3-none-any.whl (3.3 kB)\n",
            "Requirement already satisfied: numpy>=1.18 in /usr/local/lib/python3.10/dist-packages (from wquantiles) (1.23.5)\n",
            "Installing collected packages: wquantiles\n",
            "Successfully installed wquantiles-0.6\n"
          ]
        }
      ]
    },
    {
      "cell_type": "code",
      "source": [
        "import wquantiles"
      ],
      "metadata": {
        "id": "P4VubzgS0NlA"
      },
      "execution_count": 4,
      "outputs": []
    },
    {
      "cell_type": "code",
      "source": [
        "from google.colab import drive\n",
        "drive.mount('/content/drive')\n",
        "\n"
      ],
      "metadata": {
        "colab": {
          "base_uri": "https://localhost:8080/"
        },
        "id": "S4XAOKTK0SVj",
        "outputId": "2c6edf03-3711-46cd-c3cc-bed24e7770de"
      },
      "execution_count": 5,
      "outputs": [
        {
          "output_type": "stream",
          "name": "stdout",
          "text": [
            "Mounted at /content/drive\n"
          ]
        }
      ]
    },
    {
      "cell_type": "code",
      "source": [
        "import pandas as pd\n",
        "#importing data set\n",
        "csv_file = '/content/drive/My Drive/DataScience/pima-indians-diabetes.csv'\n",
        "pima_data = pd.read_csv(csv_file)\n"
      ],
      "metadata": {
        "id": "QvQ1zNKF0_qs"
      },
      "execution_count": 6,
      "outputs": []
    },
    {
      "cell_type": "code",
      "source": [
        "new_column_names = [\n",
        "    'NumberOfTimesPregnant',\n",
        "    'PlasmaGlucose2H',\n",
        "    'DiastolicBloodPressure',\n",
        "    'TricepsSkinfoldThickness',\n",
        "    '2HourSerumInsulin',\n",
        "    'BMI',\n",
        "    'DiabetesPedigreeFunction',\n",
        "    'Age',\n",
        "    'ClassVariable'\n",
        "]\n",
        "pima_data.columns = new_column_names"
      ],
      "metadata": {
        "id": "FyUyN2uj19MV"
      },
      "execution_count": 7,
      "outputs": []
    },
    {
      "cell_type": "code",
      "source": [
        "import pandas as pd\n",
        "from sklearn.model_selection import train_test_split\n",
        "from sklearn.tree import DecisionTreeClassifier\n",
        "from sklearn.metrics import accuracy_score, classification_report, confusion_matrix\n",
        "\n",
        "# Assuming you have already loaded and preprocessed the Pima Indians Diabetes dataset\n",
        "\n",
        "# Display the first few rows of the dataset\n",
        "print(pima_data.head())\n",
        "\n",
        "# Separate features and target variable\n",
        "X = pima_data.drop('ClassVariable', axis=1)  # Features\n",
        "y = pima_data['ClassVariable']  # Target variable\n",
        "\n",
        "# Split the dataset into training and testing sets\n",
        "X_train, X_test, y_train, y_test = train_test_split(X, y, test_size=0.2, random_state=42)\n",
        "\n",
        "# Initialize the Decision Tree Classifier\n",
        "dt_classifier = DecisionTreeClassifier(random_state=42)\n",
        "\n",
        "# Train the model\n",
        "dt_classifier.fit(X_train, y_train)\n",
        "\n",
        "# Predict on the test set\n",
        "y_pred = dt_classifier.predict(X_test)\n",
        "\n",
        "# Evaluate the model\n",
        "accuracy = accuracy_score(y_test, y_pred)\n",
        "conf_matrix = confusion_matrix(y_test, y_pred)\n",
        "class_report = classification_report(y_test, y_pred)\n",
        "\n",
        "print(f\"Accuracy: {accuracy}\")\n",
        "print(f\"Confusion Matrix:\\n{conf_matrix}\")\n",
        "print(f\"Classification Report:\\n{class_report}\")\n"
      ],
      "metadata": {
        "colab": {
          "base_uri": "https://localhost:8080/"
        },
        "id": "umQjm2sFp7f3",
        "outputId": "91a3e4c7-9ea4-4a5f-b63e-a13812000488"
      },
      "execution_count": 9,
      "outputs": [
        {
          "output_type": "stream",
          "name": "stdout",
          "text": [
            "   NumberOfTimesPregnant  PlasmaGlucose2H  DiastolicBloodPressure  \\\n",
            "0                      1               85                      66   \n",
            "1                      8              183                      64   \n",
            "2                      1               89                      66   \n",
            "3                      0              137                      40   \n",
            "4                      5              116                      74   \n",
            "\n",
            "   TricepsSkinfoldThickness  2HourSerumInsulin   BMI  \\\n",
            "0                        29                  0  26.6   \n",
            "1                         0                  0  23.3   \n",
            "2                        23                 94  28.1   \n",
            "3                        35                168  43.1   \n",
            "4                         0                  0  25.6   \n",
            "\n",
            "   DiabetesPedigreeFunction  Age  ClassVariable  \n",
            "0                     0.351   31              0  \n",
            "1                     0.672   32              1  \n",
            "2                     0.167   21              0  \n",
            "3                     2.288   33              1  \n",
            "4                     0.201   30              0  \n",
            "Accuracy: 0.6883116883116883\n",
            "Confusion Matrix:\n",
            "[[71 26]\n",
            " [22 35]]\n",
            "Classification Report:\n",
            "              precision    recall  f1-score   support\n",
            "\n",
            "           0       0.76      0.73      0.75        97\n",
            "           1       0.57      0.61      0.59        57\n",
            "\n",
            "    accuracy                           0.69       154\n",
            "   macro avg       0.67      0.67      0.67       154\n",
            "weighted avg       0.69      0.69      0.69       154\n",
            "\n"
          ]
        }
      ]
    }
  ]
}